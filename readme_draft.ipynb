{
 "cells": [
  {
   "cell_type": "markdown",
   "id": "59a6f359-0d19-4e14-a3ed-fd7e3320fb4c",
   "metadata": {},
   "source": [
    "# Capstone\n",
    "\n",
    "Introduction: Every report needs a strong introduction. This is where you intro the reader to the project, the reasons for carrying out the analysis & what you expect to achieve by doing so. This should also be where you lay out the table of contents.\n",
    "\n",
    "Methodology: This does not need to be technical. Simply describe the data you are using and the types of analyses you have conducted & why.\n",
    "Results: This is the main body of the report, and likely split into sections according to the various business questions the report attempts to answer & the results generated for each question.\n",
    "\n",
    "Decision Recommendations: Ok, so you have completed the project, run the analyses & generated your results. What are the recommended business actions based on these insights? Be objective.\n",
    "\n",
    "Conclusion: Tie the entire report up (in a single paragraph if possible), from the starting objective of the project to the recommended decision outcomes. In this final section you can add your own personal touch — what the results mean from your perspective & perhaps your recommendations for future analyses on the subject.\n",
    "\n"
   ]
  },
  {
   "cell_type": "markdown",
   "id": "66cd7b60-441c-4ad2-8d39-84401e052244",
   "metadata": {},
   "source": [
    "Seeing something familiar from a new perspective is a great way to reveal previously difficult-to-see insights. This is very much the case for what satellite imagery can reveal about our home, planet Earth. "
   ]
  },
  {
   "cell_type": "markdown",
   "id": "c33a3485-a875-4744-9dac-c5adf7e89025",
   "metadata": {},
   "source": []
  },
  {
   "cell_type": "markdown",
   "id": "04f4fd54-e4cd-43bc-9e4f-1bf1fa633781",
   "metadata": {},
   "source": []
  },
  {
   "cell_type": "markdown",
   "id": "00134a00-b08a-47a5-801f-272f256192d1",
   "metadata": {},
   "source": []
  }
 ],
 "metadata": {
  "kernelspec": {
   "display_name": "Python 3 (ipykernel)",
   "language": "python",
   "name": "python3"
  },
  "language_info": {
   "codemirror_mode": {
    "name": "ipython",
    "version": 3
   },
   "file_extension": ".py",
   "mimetype": "text/x-python",
   "name": "python",
   "nbconvert_exporter": "python",
   "pygments_lexer": "ipython3",
   "version": "3.9.13"
  }
 },
 "nbformat": 4,
 "nbformat_minor": 5
}
