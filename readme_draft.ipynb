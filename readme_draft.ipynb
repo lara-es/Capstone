{
 "cells": [
  {
   "cell_type": "markdown",
   "id": "59a6f359-0d19-4e14-a3ed-fd7e3320fb4c",
   "metadata": {},
   "source": [
    "# Capstone\n",
    "\n",
    "Introduction: Every report needs a strong introduction. This is where you intro the reader to the project, the reasons for carrying out the analysis & what you expect to achieve by doing so. This should also be where you lay out the table of contents.\n",
    "\n",
    "Methodology: This does not need to be technical. Simply describe the data you are using and the types of analyses you have conducted & why.\n",
    "Results: This is the main body of the report, and likely split into sections according to the various business questions the report attempts to answer & the results generated for each question.\n",
    "\n",
    "Decision Recommendations: Ok, so you have completed the project, run the analyses & generated your results. What are the recommended business actions based on these insights? Be objective.\n",
    "\n",
    "Conclusion: Tie the entire report up (in a single paragraph if possible), from the starting objective of the project to the recommended decision outcomes. In this final section you can add your own personal touch — what the results mean from your perspective & perhaps your recommendations for future analyses on the subject.\n",
    "\n"
   ]
  },
  {
   "cell_type": "markdown",
   "id": "66cd7b60-441c-4ad2-8d39-84401e052244",
   "metadata": {},
   "source": [
    "**Introduction**\n",
    "\n",
    "Seeing something familiar from a new perspective is a fantastic way to reveal previously difficult-to-see insights. This is very much the case for what satellite imagery can teach us about our home, planet Earth. Many people are leveraging these opportunities, and in fact, there are “4,852 active artificial satellites orbiting the Earth as of January 1, 2022”. (https://www.statista.com/statistics/264472/number-of-satellites-in-orbit-by-operating-country/) I hoped to join the ranks of those that are able to distill answers and solutions from the wealth of satellite imagery available and find some answers to the question “Which areas of Colorado would be most valuable to protect based on biodiversity and pressure from human impact?”. \n",
    "\n",
    "I chose those two factors as my criteria because highly biodiverse areas (habitats for vertebrates, freshwater invertebrates, pollinators, and vascular plants) could have the most benefit to a wide range of flora and fauna, and human activities such as urbanization, transportation, agriculture, etc could threaten these biodiverse habitats. Protecting these areas before irreversible harm such as species extinction or habitat destruction happens could help maintain ecological balance and keep Colorado the beautiful, wild place that so many residents and visitors cherish.\n",
    "\n",
    "In the course of doing literature review and background research, I found a great deal of useful information about the types of satellite imagery available, the potential applications of satellite imagery analysis, and tools for conducting analysis. In fact, it is quite a dense and sometimes confusing world to navigate. I encountered many obstacles in attempting to collect the right types of data needed for the specific analysis I wanted to do do, but also discovered unexpected tools and information to support my queries. Through this trial and error, I was able to build an unsupervised machine learning model, a k-Means clustering, to identify similarities in land types based on Sentinel-2 satellite images, as well as create an ArcGIS app for visualizing areas of imperiled biodiversity, park areas, and areas vulnerable to land change in Colorado.\n",
    "\n",
    "**Table of Contents** \n",
    "\n",
    "[Xarray Notebook](../xarray.ipynb)\n",
    "\n",
    "Data sources used:\n",
    "\n",
    "[Rasterio Notebook](../rasterio.ipynb)\n",
    "\n",
    "Data sources used:\n",
    "\n",
    "[k-Means Notebook](../Unsup_learning.ipynb)\n",
    "\n",
    "Data sources used:\n",
    "\n",
    "[ArcGIS app](https://learngis2.maps.arcgis.com/apps/instant/imageryviewer/index.html?appid=1eefb6a8b40c4f53be3affd947e1c1da&center=-105.427;39.0524&level=7&selectedFeature=USA_Parks_4323;15459&hiddenLayers=Land_Cover_Vulnerability_2050_8288;mapNotes_9112)\n",
    "\n",
    "**Methodology**\n",
    "\n",
    "To start, I got got comfortable with some of the more popular Python Libraries for working with Geospatial data. \n",
    "The two most beginner-friendly and valuable tools I found out of the many that I tried out are sentinelhub’s EO Browser (https://www.sentinel-hub.com/explore/eobrowser/) and Esri’s ArcGIS. EO Browser is absolutely phenomenal for locating and downloading a wide variety of different satellite images in multiple different formats, and is completely free. There are robust documentation and tutorials, but it is also very intuitive to use. ArgGIS offers a free 21-day trial and has a wealth of tutorials and an interesting gallery of examples to browse through as well. This program can easily be used to implement different types of projects, visualizations, and analyses. \n",
    "\n",
    "For the k-means clustering, I selected an area of Colorado that contained a diverse mix of urban, foothills, and mountainous territory (an area west of and including some of Denver) so that there would be a variety of landscape to classify. Using EO Browser, I downloaded 11 bands of Sentinel-2 images of my area of interest (AOI). I then stacked the data for these bands, standardized them, and performed Principle Component Analysis (PCA) to reduce the dimensionality before feeding them into the k-means model.\n",
    "\n",
    "\n",
    "Taking advantage of the features of ArgGIS, I also created a web app of a map of Colorado with layers depicting “Areas of Unprotected Biodiversity Importance of Imperiled Species in the United States”, designated Parks (Nat’l & State park or forest, regional, county, or local parks), and “Land Cover Vulnerability Change by 2050”. These map layers were available in ArcGIS’s Living Atlas, which currently has 6,433 available layers. It is then possible to visualize the intersections of areas that are unprotected areas of imperiled species, and that are vulnerable to land cover change.\n",
    "\n",
    "\n",
    "**Results**\n",
    "\n",
    "**Conclusions** \n"
   ]
  }
 ],
 "metadata": {
  "kernelspec": {
   "display_name": "Python 3 (ipykernel)",
   "language": "python",
   "name": "python3"
  },
  "language_info": {
   "codemirror_mode": {
    "name": "ipython",
    "version": 3
   },
   "file_extension": ".py",
   "mimetype": "text/x-python",
   "name": "python",
   "nbconvert_exporter": "python",
   "pygments_lexer": "ipython3",
   "version": "3.9.13"
  }
 },
 "nbformat": 4,
 "nbformat_minor": 5
}
