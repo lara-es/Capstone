{
 "cells": [
  {
   "cell_type": "code",
   "execution_count": 14,
   "id": "9cbc767c-d1b6-4b73-97ba-071b1ebb5c2c",
   "metadata": {},
   "outputs": [],
   "source": [
    "# conda install netCDF4"
   ]
  },
  {
   "cell_type": "code",
   "execution_count": 25,
   "id": "fe42be5a-58e5-4a78-a725-011f82e627ed",
   "metadata": {},
   "outputs": [],
   "source": [
    "# conda install -c conda-forge xarray dask bottleneck"
   ]
  },
  {
   "cell_type": "code",
   "execution_count": 26,
   "id": "713c63c9-5d57-43b2-9ae9-55d609d326c7",
   "metadata": {},
   "outputs": [],
   "source": [
    "# conda update -n base -c conda-forge conda"
   ]
  },
  {
   "cell_type": "code",
   "execution_count": 28,
   "id": "bcd440cc-0c1d-418c-9052-0fedf9f72df4",
   "metadata": {},
   "outputs": [],
   "source": [
    "import pandas as pd\n",
    "import numpy as np\n",
    "\n",
    "import netCDF4 as nc\n",
    "import xarray as xr"
   ]
  },
  {
   "cell_type": "markdown",
   "id": "4e25b42b-8476-4983-8239-947c9cbdc73c",
   "metadata": {},
   "source": [
    "### netCDF4"
   ]
  },
  {
   "cell_type": "markdown",
   "id": "8920f3aa-0277-4ffe-b364-f665d9fba716",
   "metadata": {},
   "source": [
    "Following is inspired by https://towardsdatascience.com/read-netcdf-data-with-python-901f7ff61648"
   ]
  },
  {
   "cell_type": "code",
   "execution_count": 30,
   "id": "1adf12e8-ce08-4ca4-81bd-24f1774f97ec",
   "metadata": {},
   "outputs": [],
   "source": [
    "# Reading in with netCDF4:\n",
    "fn = './data/ml_hfi_v1_2000.nc'\n",
    "ds = nc.Dataset(fn)"
   ]
  },
  {
   "cell_type": "code",
   "execution_count": 31,
   "id": "8927515b-72fd-4667-bbc0-01a2d7d8d990",
   "metadata": {},
   "outputs": [
    {
     "name": "stdout",
     "output_type": "stream",
     "text": [
      "<class 'netCDF4._netCDF4.Dataset'>\n",
      "root group (NETCDF4 data model, file format HDF5):\n",
      "    dimensions(sizes): lat(13141), lon(36390)\n",
      "    variables(dimensions): float64 lat(lat), float64 lon(lon), float64 __xarray_dataarray_variable__(lat, lon)\n",
      "    groups: \n"
     ]
    }
   ],
   "source": [
    "print(ds)"
   ]
  },
  {
   "cell_type": "code",
   "execution_count": 32,
   "id": "ece4e39a-082a-4241-b52b-444db6250f05",
   "metadata": {},
   "outputs": [
    {
     "name": "stdout",
     "output_type": "stream",
     "text": [
      "NETCDF4\n"
     ]
    }
   ],
   "source": [
    "print(ds.data_model)"
   ]
  },
  {
   "cell_type": "code",
   "execution_count": 33,
   "id": "84503282-7c7a-473e-8f3c-2ebcf7d33c00",
   "metadata": {},
   "outputs": [
    {
     "name": "stdout",
     "output_type": "stream",
     "text": [
      "{}\n"
     ]
    }
   ],
   "source": [
    "print(ds.__dict__)"
   ]
  },
  {
   "cell_type": "code",
   "execution_count": 34,
   "id": "294f51cc-35ee-493c-aaef-e38934ebc885",
   "metadata": {},
   "outputs": [
    {
     "name": "stdout",
     "output_type": "stream",
     "text": [
      "<class 'netCDF4._netCDF4.Dimension'>: name = 'lat', size = 13141\n",
      "<class 'netCDF4._netCDF4.Dimension'>: name = 'lon', size = 36390\n"
     ]
    }
   ],
   "source": [
    "for dim in ds.dimensions.values():\n",
    "    print(dim)"
   ]
  },
  {
   "cell_type": "code",
   "execution_count": 35,
   "id": "765e3d46-1f11-4ed6-9056-333f9b676881",
   "metadata": {},
   "outputs": [
    {
     "name": "stdout",
     "output_type": "stream",
     "text": [
      "<class 'netCDF4._netCDF4.Variable'>\n",
      "float64 lat(lat)\n",
      "    _FillValue: nan\n",
      "unlimited dimensions: \n",
      "current shape = (13141,)\n",
      "filling on\n",
      "<class 'netCDF4._netCDF4.Variable'>\n",
      "float64 lon(lon)\n",
      "    _FillValue: nan\n",
      "unlimited dimensions: \n",
      "current shape = (36390,)\n",
      "filling on\n",
      "<class 'netCDF4._netCDF4.Variable'>\n",
      "float64 __xarray_dataarray_variable__(lat, lon)\n",
      "    _FillValue: nan\n",
      "unlimited dimensions: \n",
      "current shape = (13141, 36390)\n",
      "filling on\n"
     ]
    }
   ],
   "source": [
    "for var in ds.variables.values():\n",
    "    print(var)"
   ]
  },
  {
   "cell_type": "code",
   "execution_count": 36,
   "id": "dd70c77c-ab1d-4dc8-b54e-a0e69532b179",
   "metadata": {},
   "outputs": [],
   "source": [
    "# additional netCDF4 info at http://schubert.atmos.colostate.edu/~cslocum/netcdf_example.html"
   ]
  },
  {
   "cell_type": "markdown",
   "id": "c211721c-1286-4c91-984b-3cf79823e554",
   "metadata": {},
   "source": [
    "### Xarray"
   ]
  },
  {
   "cell_type": "markdown",
   "id": "8ac9a64e-7d01-4316-af7a-cbee6d7a63b8",
   "metadata": {},
   "source": [
    "from https://stackoverflow.com/questions/66169106/transform-part-of-a-netcdf-file-into-a-dataframe-with-xarray:"
   ]
  },
  {
   "cell_type": "code",
   "execution_count": 38,
   "id": "3ccb7a9c-4e72-4ab4-9460-dc20dd528d08",
   "metadata": {},
   "outputs": [
    {
     "name": "stdout",
     "output_type": "stream",
     "text": [
      "          lat        lon  __xarray_dataarray_variable__\n",
      "0  -55.609663 -68.108226                   3.328762e-06\n",
      "1  -55.609663 -68.098333                   1.328018e-08\n",
      "2  -55.609663 -68.088440                   1.276196e-13\n",
      "3  -55.609663 -68.078547                   7.129802e-14\n",
      "4  -55.609663 -68.068655                   6.915253e-18\n",
      "5  -55.609663 -68.058762                   8.362481e-10\n",
      "6  -55.609663 -68.048869                   4.444112e-13\n",
      "7  -55.609663 -68.038976                   6.182441e-06\n",
      "8  -55.609663 -68.029084                   7.117076e-07\n",
      "9  -55.599770 -68.226938                   3.421031e-08\n",
      "10 -55.599770 -68.217046                   4.486133e-09\n",
      "11 -55.599770 -68.207153                   6.264514e-09\n",
      "12 -55.599770 -68.197260                   5.907112e-08\n",
      "13 -55.599770 -68.187367                   1.511353e-05\n",
      "14 -55.599770 -68.118118                   5.960242e-10\n"
     ]
    }
   ],
   "source": [
    "dp = xr.open_dataset('./data/ml_hfi_v1_2000.nc')\n",
    "\n",
    "m2 = dp.to_dataframe()\n",
    "m2 = m2.dropna().reset_index()\n",
    "print(m2.head(15))"
   ]
  },
  {
   "cell_type": "code",
   "execution_count": 39,
   "id": "a6904a0d-efa9-4500-a574-b723a5b79d48",
   "metadata": {},
   "outputs": [
    {
     "data": {
      "text/html": [
       "<div>\n",
       "<style scoped>\n",
       "    .dataframe tbody tr th:only-of-type {\n",
       "        vertical-align: middle;\n",
       "    }\n",
       "\n",
       "    .dataframe tbody tr th {\n",
       "        vertical-align: top;\n",
       "    }\n",
       "\n",
       "    .dataframe thead th {\n",
       "        text-align: right;\n",
       "    }\n",
       "</style>\n",
       "<table border=\"1\" class=\"dataframe\">\n",
       "  <thead>\n",
       "    <tr style=\"text-align: right;\">\n",
       "      <th></th>\n",
       "      <th>lat</th>\n",
       "      <th>lon</th>\n",
       "      <th>__xarray_dataarray_variable__</th>\n",
       "    </tr>\n",
       "  </thead>\n",
       "  <tbody>\n",
       "    <tr>\n",
       "      <th>140472840</th>\n",
       "      <td>69.988495</td>\n",
       "      <td>171.830159</td>\n",
       "      <td>1.399456e-07</td>\n",
       "    </tr>\n",
       "    <tr>\n",
       "      <th>140472841</th>\n",
       "      <td>69.988495</td>\n",
       "      <td>171.840051</td>\n",
       "      <td>2.790310e-04</td>\n",
       "    </tr>\n",
       "    <tr>\n",
       "      <th>140472842</th>\n",
       "      <td>69.988495</td>\n",
       "      <td>171.849944</td>\n",
       "      <td>3.740434e-05</td>\n",
       "    </tr>\n",
       "    <tr>\n",
       "      <th>140472843</th>\n",
       "      <td>69.988495</td>\n",
       "      <td>171.859837</td>\n",
       "      <td>4.128010e-02</td>\n",
       "    </tr>\n",
       "    <tr>\n",
       "      <th>140472844</th>\n",
       "      <td>69.988495</td>\n",
       "      <td>171.869730</td>\n",
       "      <td>8.492768e-04</td>\n",
       "    </tr>\n",
       "  </tbody>\n",
       "</table>\n",
       "</div>"
      ],
      "text/plain": [
       "                 lat         lon  __xarray_dataarray_variable__\n",
       "140472840  69.988495  171.830159                   1.399456e-07\n",
       "140472841  69.988495  171.840051                   2.790310e-04\n",
       "140472842  69.988495  171.849944                   3.740434e-05\n",
       "140472843  69.988495  171.859837                   4.128010e-02\n",
       "140472844  69.988495  171.869730                   8.492768e-04"
      ]
     },
     "execution_count": 39,
     "metadata": {},
     "output_type": "execute_result"
    }
   ],
   "source": [
    "m2.tail()"
   ]
  },
  {
   "cell_type": "code",
   "execution_count": 40,
   "id": "c29f0c43-a3c3-40d9-81ed-078fc86667a1",
   "metadata": {},
   "outputs": [],
   "source": [
    "# Trimming data for just CO latitudes\n",
    "co_coords = m2[(m2.lat <= 41) & (m2.lat >= 37)].copy()"
   ]
  },
  {
   "cell_type": "code",
   "execution_count": 41,
   "id": "da81c9e2-c22b-4f3f-9029-6c3b6e7a60e8",
   "metadata": {},
   "outputs": [
    {
     "data": {
      "text/html": [
       "<div>\n",
       "<style scoped>\n",
       "    .dataframe tbody tr th:only-of-type {\n",
       "        vertical-align: middle;\n",
       "    }\n",
       "\n",
       "    .dataframe tbody tr th {\n",
       "        vertical-align: top;\n",
       "    }\n",
       "\n",
       "    .dataframe thead th {\n",
       "        text-align: right;\n",
       "    }\n",
       "</style>\n",
       "<table border=\"1\" class=\"dataframe\">\n",
       "  <thead>\n",
       "    <tr style=\"text-align: right;\">\n",
       "      <th></th>\n",
       "      <th>lat</th>\n",
       "      <th>lon</th>\n",
       "      <th>__xarray_dataarray_variable__</th>\n",
       "    </tr>\n",
       "  </thead>\n",
       "  <tbody>\n",
       "    <tr>\n",
       "      <th>73052098</th>\n",
       "      <td>37.006118</td>\n",
       "      <td>-122.172020</td>\n",
       "      <td>0.527928</td>\n",
       "    </tr>\n",
       "    <tr>\n",
       "      <th>73052099</th>\n",
       "      <td>37.006118</td>\n",
       "      <td>-122.162127</td>\n",
       "      <td>0.323778</td>\n",
       "    </tr>\n",
       "    <tr>\n",
       "      <th>73052100</th>\n",
       "      <td>37.006118</td>\n",
       "      <td>-122.152235</td>\n",
       "      <td>0.352339</td>\n",
       "    </tr>\n",
       "    <tr>\n",
       "      <th>73052101</th>\n",
       "      <td>37.006118</td>\n",
       "      <td>-122.142342</td>\n",
       "      <td>0.182623</td>\n",
       "    </tr>\n",
       "    <tr>\n",
       "      <th>73052102</th>\n",
       "      <td>37.006118</td>\n",
       "      <td>-122.132449</td>\n",
       "      <td>0.152508</td>\n",
       "    </tr>\n",
       "  </tbody>\n",
       "</table>\n",
       "</div>"
      ],
      "text/plain": [
       "                lat         lon  __xarray_dataarray_variable__\n",
       "73052098  37.006118 -122.172020                       0.527928\n",
       "73052099  37.006118 -122.162127                       0.323778\n",
       "73052100  37.006118 -122.152235                       0.352339\n",
       "73052101  37.006118 -122.142342                       0.182623\n",
       "73052102  37.006118 -122.132449                       0.152508"
      ]
     },
     "execution_count": 41,
     "metadata": {},
     "output_type": "execute_result"
    }
   ],
   "source": [
    "co_coords.head()"
   ]
  },
  {
   "cell_type": "code",
   "execution_count": 42,
   "id": "8ce61463-9a7c-493a-a10c-12efc26d62fd",
   "metadata": {},
   "outputs": [],
   "source": [
    "# And further subsetting for just CO longitudes:\n",
    "co_coords = co_coords[(co_coords.lon <= 109) & (co_coords.lon >= 102)]"
   ]
  },
  {
   "cell_type": "code",
   "execution_count": 43,
   "id": "ae03d41c-9d15-454a-ac84-454a6811c2eb",
   "metadata": {},
   "outputs": [
    {
     "data": {
      "text/html": [
       "<div>\n",
       "<style scoped>\n",
       "    .dataframe tbody tr th:only-of-type {\n",
       "        vertical-align: middle;\n",
       "    }\n",
       "\n",
       "    .dataframe tbody tr th {\n",
       "        vertical-align: top;\n",
       "    }\n",
       "\n",
       "    .dataframe thead th {\n",
       "        text-align: right;\n",
       "    }\n",
       "</style>\n",
       "<table border=\"1\" class=\"dataframe\">\n",
       "  <thead>\n",
       "    <tr style=\"text-align: right;\">\n",
       "      <th></th>\n",
       "      <th>lat</th>\n",
       "      <th>lon</th>\n",
       "      <th>__xarray_dataarray_variable__</th>\n",
       "    </tr>\n",
       "  </thead>\n",
       "  <tbody>\n",
       "    <tr>\n",
       "      <th>count</th>\n",
       "      <td>285623.000000</td>\n",
       "      <td>285623.000000</td>\n",
       "      <td>2.856230e+05</td>\n",
       "    </tr>\n",
       "    <tr>\n",
       "      <th>mean</th>\n",
       "      <td>38.999493</td>\n",
       "      <td>105.499354</td>\n",
       "      <td>1.522127e-01</td>\n",
       "    </tr>\n",
       "    <tr>\n",
       "      <th>std</th>\n",
       "      <td>1.153732</td>\n",
       "      <td>2.019027</td>\n",
       "      <td>1.411210e-01</td>\n",
       "    </tr>\n",
       "    <tr>\n",
       "      <th>min</th>\n",
       "      <td>37.006118</td>\n",
       "      <td>102.007238</td>\n",
       "      <td>1.323955e-17</td>\n",
       "    </tr>\n",
       "    <tr>\n",
       "      <th>25%</th>\n",
       "      <td>38.000338</td>\n",
       "      <td>103.748359</td>\n",
       "      <td>1.960994e-02</td>\n",
       "    </tr>\n",
       "    <tr>\n",
       "      <th>50%</th>\n",
       "      <td>38.994557</td>\n",
       "      <td>105.499373</td>\n",
       "      <td>1.337140e-01</td>\n",
       "    </tr>\n",
       "    <tr>\n",
       "      <th>75%</th>\n",
       "      <td>39.993724</td>\n",
       "      <td>107.250387</td>\n",
       "      <td>2.272051e-01</td>\n",
       "    </tr>\n",
       "    <tr>\n",
       "      <th>max</th>\n",
       "      <td>40.992890</td>\n",
       "      <td>108.991509</td>\n",
       "      <td>9.081439e-01</td>\n",
       "    </tr>\n",
       "  </tbody>\n",
       "</table>\n",
       "</div>"
      ],
      "text/plain": [
       "                 lat            lon  __xarray_dataarray_variable__\n",
       "count  285623.000000  285623.000000                   2.856230e+05\n",
       "mean       38.999493     105.499354                   1.522127e-01\n",
       "std         1.153732       2.019027                   1.411210e-01\n",
       "min        37.006118     102.007238                   1.323955e-17\n",
       "25%        38.000338     103.748359                   1.960994e-02\n",
       "50%        38.994557     105.499373                   1.337140e-01\n",
       "75%        39.993724     107.250387                   2.272051e-01\n",
       "max        40.992890     108.991509                   9.081439e-01"
      ]
     },
     "execution_count": 43,
     "metadata": {},
     "output_type": "execute_result"
    }
   ],
   "source": [
    "# Confirming we have only the range for CO:\n",
    "co_coords.describe()"
   ]
  },
  {
   "cell_type": "code",
   "execution_count": 44,
   "id": "87fde9bc-7434-4a36-bf08-d1463506ce59",
   "metadata": {},
   "outputs": [
    {
     "data": {
      "text/plain": [
       "(285623, 3)"
      ]
     },
     "execution_count": 44,
     "metadata": {},
     "output_type": "execute_result"
    }
   ],
   "source": [
    "co_coords.shape"
   ]
  },
  {
   "cell_type": "markdown",
   "id": "bdbdeea5-8855-4941-9a20-ed4a26fc5407",
   "metadata": {},
   "source": [
    "## Modeling"
   ]
  },
  {
   "cell_type": "code",
   "execution_count": 45,
   "id": "4cedd7df-18da-4e52-88c3-5eafacc8d9df",
   "metadata": {},
   "outputs": [
    {
     "ename": "ModuleNotFoundError",
     "evalue": "No module named 'tensorflow'",
     "output_type": "error",
     "traceback": [
      "\u001b[0;31m---------------------------------------------------------------------------\u001b[0m",
      "\u001b[0;31mModuleNotFoundError\u001b[0m                       Traceback (most recent call last)",
      "Cell \u001b[0;32mIn [45], line 1\u001b[0m\n\u001b[0;32m----> 1\u001b[0m \u001b[38;5;28;01mfrom\u001b[39;00m \u001b[38;5;21;01mtensorflow\u001b[39;00m\u001b[38;5;21;01m.\u001b[39;00m\u001b[38;5;21;01mkeras\u001b[39;00m\u001b[38;5;21;01m.\u001b[39;00m\u001b[38;5;21;01mmodels\u001b[39;00m \u001b[38;5;28;01mimport\u001b[39;00m Sequential\n\u001b[1;32m      2\u001b[0m \u001b[38;5;28;01mfrom\u001b[39;00m \u001b[38;5;21;01mtensorflow\u001b[39;00m\u001b[38;5;21;01m.\u001b[39;00m\u001b[38;5;21;01mkeras\u001b[39;00m\u001b[38;5;21;01m.\u001b[39;00m\u001b[38;5;21;01mlayers\u001b[39;00m \u001b[38;5;28;01mimport\u001b[39;00m Dense, Dropout, Flatten, Conv2D, MaxPooling2D\n\u001b[1;32m      3\u001b[0m \u001b[38;5;28;01mfrom\u001b[39;00m \u001b[38;5;21;01mtensorflow\u001b[39;00m\u001b[38;5;21;01m.\u001b[39;00m\u001b[38;5;21;01mkeras\u001b[39;00m \u001b[38;5;28;01mimport\u001b[39;00m utils\n",
      "\u001b[0;31mModuleNotFoundError\u001b[0m: No module named 'tensorflow'"
     ]
    }
   ],
   "source": [
    "from tensorflow.keras.models import Sequential\n",
    "from tensorflow.keras.layers import Dense, Dropout, Flatten, Conv2D, MaxPooling2D\n",
    "from tensorflow.keras import utils\n",
    "from tensorflow.keras.datasets import mnist"
   ]
  }
 ],
 "metadata": {
  "kernelspec": {
   "display_name": "Python 3 (ipykernel)",
   "language": "python",
   "name": "python3"
  },
  "language_info": {
   "codemirror_mode": {
    "name": "ipython",
    "version": 3
   },
   "file_extension": ".py",
   "mimetype": "text/x-python",
   "name": "python",
   "nbconvert_exporter": "python",
   "pygments_lexer": "ipython3",
   "version": "3.9.13"
  }
 },
 "nbformat": 4,
 "nbformat_minor": 5
}
